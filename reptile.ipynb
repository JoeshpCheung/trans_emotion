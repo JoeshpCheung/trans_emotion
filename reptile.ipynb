{
 "cells": [
  {
   "cell_type": "code",
   "execution_count": 2,
   "id": "536acce4",
   "metadata": {},
   "outputs": [],
   "source": [
    "from bs4 import BeautifulSoup\n",
    "import requests"
   ]
  },
  {
   "cell_type": "code",
   "execution_count": 40,
   "id": "67586eae",
   "metadata": {
    "scrolled": true
   },
   "outputs": [
    {
     "name": "stdout",
     "output_type": "stream",
     "text": [
      "https://www.hsbc.com.cn/rural-bank/\n",
      "https://www.services.online-banking.hsbc.com.cn/gpib/channel/?idv_cmd=idv.Logoff&nextPage=saasextention/ICSaaSExtRedirectionController/ADVANCE_LOGOUT_LANDING_PAGE\n",
      "https://www.services.online-banking.hsbc.com.cn/gpib\n",
      "https://creditcards.hsbc.com.cn/perbank/\n",
      "https://www.cn.secure.hsbcnet.com/uims/portal/IDV_CAM10_AUTHENTICATION?idv_cmd=idv.Authentication&__langid=zh&nextPage=IDV_CAM10_AUTHENTICATION&__source=http://www.hsbc.com.cn/1/2/commercial-banking-cn/commercial-banking-service&initialAccess=True&__cancelLogonUrl=http://www.hsbc.com.cn/1/2/commercial-banking-cn/commercial-banking-service\n",
      "https://www.services.online-banking.hsbc.com.cn/gpib\n",
      "https://www.security.online-banking.hsbc.com.cn/gsa?idv_cmd=idv.SaaSSecurityCommand&SaaS_FUNCTION_NAME=Saas_Registration&COUNTRY_CODE=CN&GROUP_MEMBER_CODE=HSBC&locale=zh_CN&ProductType=PBK&CustomerType=PFS&APPNAME=HUBPIB&IC_GSM_APPID=GSP_IC_CN\n",
      "https://www.services.cn-banking.hsbc.com.cn/PublicContent/common/rate/zh/deposit-rates.html\n",
      "https://www.services.cn-banking.hsbc.com.cn/PublicContent/common/rate/zh/exchange-rates.html\n",
      "https://www.fatca.hsbc.com/\n",
      "https://www.services.cn-banking.hsbc.com.cn/PublicContent/common/rate/zh/exchange-rates.html\n",
      "https://investments.personal-banking.hsbc.com.cn/group-fhc-gateway-war/gateway/startPws?targetFunction=home\n",
      "https://investments.personal-banking.hsbc.com.cn/group-fhc-gateway-war/gateway/startPws?targetFunction=home\n",
      "https://creditcards.hsbc.com.cn/perbank/bk0321/home/cardquery/cardquery\n",
      "https://creditcards.hsbc.com.cn/perbank/bk0321/home/cardactive/cardactive\n",
      "https://creditcards.hsbc.com.cn/hfcoas/channel/card/bookFaceSign\n",
      "https://creditcards.hsbc.com.cn/hfcoas/channel/card/patch\n",
      "https://www.services.cn-banking.hsbc.com.cn/PublicContent/common/rate/zh/deposit-rates.html\n",
      "https://www.services.cn-banking.hsbc.com.cn/PublicContent/common/rate/zh/exchange-rates.html\n",
      "https://www.fatca.hsbc.com/\n",
      "https://www.services.cn-banking.hsbc.com.cn/PublicContent/common/rate/zh/exchange-rates.html\n",
      "https://investments.personal-banking.hsbc.com.cn/group-fhc-gateway-war/gateway/startPws?targetFunction=home\n",
      "https://investments.personal-banking.hsbc.com.cn/group-fhc-gateway-war/gateway/startPws?targetFunction=home\n",
      "https://creditcards.hsbc.com.cn/perbank/bk0321/home/cardquery/cardquery\n",
      "https://creditcards.hsbc.com.cn/perbank/bk0321/home/cardactive/cardactive\n",
      "https://creditcards.hsbc.com.cn/hfcoas/channel/card/bookFaceSign\n",
      "https://creditcards.hsbc.com.cn/hfcoas/channel/card/patch\n",
      "https://www.hsbc.com.cn/private-banking/\n",
      "https://www.hsbc.com.cn/rural-bank/\n",
      "https://www.services.online-banking.hsbc.com.cn/gpib/channel/?idv_cmd=idv.Logoff&nextPage=saasextention/ICSaaSExtRedirectionController/ADVANCE_LOGOUT_LANDING_PAGE\n",
      "https://www.services.online-banking.hsbc.com.cn/gpib\n",
      "https://creditcards.hsbc.com.cn/perbank/\n",
      "https://www.cn.secure.hsbcnet.com/uims/portal/IDV_CAM10_AUTHENTICATION?idv_cmd=idv.Authentication&__langid=zh&nextPage=IDV_CAM10_AUTHENTICATION&__source=http://www.hsbc.com.cn/1/2/commercial-banking-cn/commercial-banking-service&initialAccess=True&__cancelLogonUrl=http://www.hsbc.com.cn/1/2/commercial-banking-cn/commercial-banking-service\n",
      "https://www.services.online-banking.hsbc.com.cn/gpib\n",
      "https://www.security.online-banking.hsbc.com.cn/gsa?idv_cmd=idv.SaaSSecurityCommand&SaaS_FUNCTION_NAME=Saas_Registration&COUNTRY_CODE=CN&GROUP_MEMBER_CODE=HSBC&locale=zh_CN&ProductType=PBK&CustomerType=PFS&APPNAME=HUBPIB&IC_GSM_APPID=GSP_IC_CN\n"
     ]
    }
   ],
   "source": [
    "url = 'https://www.hsbc.com.cn'\n",
    "response = requests.get(url, timeout=50)\n",
    "soup = BeautifulSoup(response.text)\n",
    "\n",
    "def filtering(text):\n",
    "    text = text.split('\\n')\n",
    "    import re\n",
    "    pattern = ',|\\.|/|;|\\'|`|\\[|\\]|<|>|\\?|:|\"|\\{|\\}|\\~|!|@|#|\\$|%|\\^|&|\\(|\\)|-|=|\\_|\\+|，|。|、|；|‘|\\'|【|】|·|！| |…|（|）'\n",
    "    text = [re.split(pattern, i) for i in text]\n",
    "    text = [i for j in text for i in j]\n",
    "    text = [i.strip() for i in text]\n",
    "    text = list(filter(None, text))\n",
    "    return text\n",
    "\n",
    "record = []\n",
    "record.append(filtering(soup.text))\n",
    "urls = soup.find_all('a')\n",
    "for a in urls:\n",
    "    try:\n",
    "        tmp_url = a['href']\n",
    "        if 'hsbc' in tmp_url and 'https' in tmp_url:\n",
    "            print(tmp_url)\n",
    "            response = requests.get(tmp_url, timeout=50)\n",
    "            soup = BeautifulSoup(response.text)\n",
    "            record.append(filtering(soup.text))\n",
    "    except:\n",
    "        pass\n",
    "        "
   ]
  },
  {
   "cell_type": "code",
   "execution_count": 48,
   "id": "8868980f",
   "metadata": {},
   "outputs": [
    {
     "data": {
      "text/plain": [
       "1731"
      ]
     },
     "execution_count": 48,
     "metadata": {},
     "output_type": "execute_result"
    }
   ],
   "source": [
    "record1 = [i for j in record for i in j]\n",
    "\n",
    "def is_chinese(string):\n",
    "    \"\"\"\n",
    "    检查整个字符串是否包含中文\n",
    "    :param string: 需要检查的字符串\n",
    "    :return: bool\n",
    "    \"\"\"\n",
    "    for ch in string:\n",
    "        if u'\\u4e00' <= ch <= u'\\u9fff':\n",
    "            return True\n",
    "\n",
    "    return False\n",
    "\n",
    "record1 = [i if is_chinese(i) else '' for i in record1]\n",
    "record1 = [i if len(i)>1 else '' for i in record1]\n",
    "record1 = list(filter(None, record1))\n",
    "len(record1)"
   ]
  },
  {
   "cell_type": "code",
   "execution_count": 50,
   "id": "c3e7a516",
   "metadata": {},
   "outputs": [
    {
     "data": {
      "text/plain": [
       "'/home/jasoncheung/project/trans/trans_emotion'"
      ]
     },
     "execution_count": 50,
     "metadata": {},
     "output_type": "execute_result"
    }
   ],
   "source": [
    "with open('./hsbc_words.txt') as fw:\n",
    "    for i in record1:\n",
    "        "
   ]
  },
  {
   "cell_type": "code",
   "execution_count": null,
   "id": "fde88033",
   "metadata": {},
   "outputs": [],
   "source": []
  },
  {
   "cell_type": "code",
   "execution_count": null,
   "id": "925f027d",
   "metadata": {},
   "outputs": [],
   "source": []
  },
  {
   "cell_type": "code",
   "execution_count": 44,
   "id": "87a2631e",
   "metadata": {
    "scrolled": true
   },
   "outputs": [
    {
     "data": {
      "text/plain": [
       "['to',\n",
       " 'Homepage',\n",
       " 'Please',\n",
       " 'wait',\n",
       " '汇丰中国信用卡个人网上银行',\n",
       " '汇丰银行首页',\n",
       " '汇丰信用卡首页',\n",
       " '信用卡激活',\n",
       " '申请进度查询',\n",
       " '信用卡网银登录',\n",
       " '卡号',\n",
       " '身份证',\n",
       " '台湾居民通行证',\n",
       " '港澳居民通行证',\n",
       " '护照',\n",
       " '香港居民居住证',\n",
       " '澳门居民居住证',\n",
       " '台湾居民居住证',\n",
       " '外国人永久居留身份证',\n",
       " '汇丰中国信用卡个人网上银行',\n",
       " '信用卡客户服务热线',\n",
       " '400',\n",
       " '86',\n",
       " '95366',\n",
       " '95366',\n",
       " '境内',\n",
       " '或0086',\n",
       " '21',\n",
       " '20534333',\n",
       " '境外',\n",
       " '寻找汇丰分行',\n",
       " '收到卡片后亲临分行激活',\n",
       " '常见问题',\n",
       " '查看产品及服务的常见问题',\n",
       " '关于汇丰',\n",
       " '查看更多公司信息',\n",
       " '保密及安全',\n",
       " '网站使用条款',\n",
       " '超链接政策',\n",
       " '网上保安',\n",
       " '©',\n",
       " '版权所有',\n",
       " '汇丰银行',\n",
       " '中国',\n",
       " '有限公司2016',\n",
       " '不得转载',\n",
       " 'Capture',\n",
       " 'Username\\xa0|\\xa0HSBCnet',\n",
       " 'Close',\n",
       " 'Window',\n",
       " 'Skip',\n",
       " 'to',\n",
       " 'content',\n",
       " 'Close',\n",
       " 'Window',\n",
       " 'Capture',\n",
       " 'Username',\n",
       " 'Capture',\n",
       " 'Username',\n",
       " '欢迎登录汇丰财资网',\n",
       " '汇丰财资网为您提供安全实时的线上交易',\n",
       " '报表',\n",
       " '研究及分析工具',\n",
       " '服务涵盖环球市场',\n",
       " '资金管理',\n",
       " '投资银行',\n",
       " '贸易服务',\n",
       " '证券服务以及工商金融等',\n",
       " '注：带星号',\n",
       " '*',\n",
       " '的项目为必填项',\n",
       " '登录',\n",
       " '用户名',\n",
       " '继续',\n",
       " '取消',\n",
       " '在线安全',\n",
       " '在新窗口中打开链接',\n",
       " '汇丰集团',\n",
       " '在新窗口中打开链接',\n",
       " '客户支持',\n",
       " '在新窗口中打开链接',\n",
       " '使用条款',\n",
       " '在新窗口中打开链接',\n",
       " '隐私和数据保护声明',\n",
       " '在新窗口中打开链接',\n",
       " 'HSBCnet有关使用本国语言文本的条款',\n",
       " '在新窗口中打开链接',\n",
       " '本网站支持IPv6本网站支持IPv6',\n",
       " '沪ICP备15029387号',\n",
       " '在新窗口中打开链接',\n",
       " '沪公网安备31011502007001号',\n",
       " '在新窗口中打开链接',\n",
       " '©',\n",
       " 'HSBC',\n",
       " 'Bank',\n",
       " 'plc',\n",
       " '2021',\n",
       " 'Please',\n",
       " 'wait',\n",
       " 'Registration']"
      ]
     },
     "execution_count": 44,
     "metadata": {},
     "output_type": "execute_result"
    }
   ],
   "source": [
    "record1[-100:]"
   ]
  },
  {
   "cell_type": "code",
   "execution_count": null,
   "id": "7e505b76",
   "metadata": {},
   "outputs": [],
   "source": []
  },
  {
   "cell_type": "code",
   "execution_count": null,
   "id": "5653a579",
   "metadata": {},
   "outputs": [],
   "source": []
  },
  {
   "cell_type": "code",
   "execution_count": null,
   "id": "7260ff36",
   "metadata": {},
   "outputs": [],
   "source": []
  },
  {
   "cell_type": "code",
   "execution_count": null,
   "id": "f85fd678",
   "metadata": {},
   "outputs": [],
   "source": []
  },
  {
   "cell_type": "code",
   "execution_count": 23,
   "id": "5a0b5d34",
   "metadata": {},
   "outputs": [
    {
     "ename": "KeyError",
     "evalue": "'href'",
     "output_type": "error",
     "traceback": [
      "\u001b[0;31m---------------------------------------------------------------------------\u001b[0m",
      "\u001b[0;31mKeyError\u001b[0m                                  Traceback (most recent call last)",
      "\u001b[0;32m/tmp/ipykernel_1306342/3144648587.py\u001b[0m in \u001b[0;36m<module>\u001b[0;34m\u001b[0m\n\u001b[0;32m----> 1\u001b[0;31m \u001b[0ma\u001b[0m\u001b[0;34m[\u001b[0m\u001b[0;34m'href'\u001b[0m\u001b[0;34m]\u001b[0m\u001b[0;34m\u001b[0m\u001b[0;34m\u001b[0m\u001b[0m\n\u001b[0m",
      "\u001b[0;32m~/.virtualenvs/coachingbot/lib/python3.8/site-packages/bs4/element.py\u001b[0m in \u001b[0;36m__getitem__\u001b[0;34m(self, key)\u001b[0m\n\u001b[1;32m   1404\u001b[0m         \"\"\"tag[key] returns the value of the 'key' attribute for the Tag,\n\u001b[1;32m   1405\u001b[0m         and throws an exception if it's not there.\"\"\"\n\u001b[0;32m-> 1406\u001b[0;31m         \u001b[0;32mreturn\u001b[0m \u001b[0mself\u001b[0m\u001b[0;34m.\u001b[0m\u001b[0mattrs\u001b[0m\u001b[0;34m[\u001b[0m\u001b[0mkey\u001b[0m\u001b[0;34m]\u001b[0m\u001b[0;34m\u001b[0m\u001b[0;34m\u001b[0m\u001b[0m\n\u001b[0m\u001b[1;32m   1407\u001b[0m \u001b[0;34m\u001b[0m\u001b[0m\n\u001b[1;32m   1408\u001b[0m     \u001b[0;32mdef\u001b[0m \u001b[0m__iter__\u001b[0m\u001b[0;34m(\u001b[0m\u001b[0mself\u001b[0m\u001b[0;34m)\u001b[0m\u001b[0;34m:\u001b[0m\u001b[0;34m\u001b[0m\u001b[0;34m\u001b[0m\u001b[0m\n",
      "\u001b[0;31mKeyError\u001b[0m: 'href'"
     ]
    }
   ],
   "source": []
  },
  {
   "cell_type": "code",
   "execution_count": null,
   "id": "26d5b449",
   "metadata": {},
   "outputs": [],
   "source": []
  }
 ],
 "metadata": {
  "kernelspec": {
   "display_name": "Python 3 (ipykernel)",
   "language": "python",
   "name": "python3"
  },
  "language_info": {
   "codemirror_mode": {
    "name": "ipython",
    "version": 3
   },
   "file_extension": ".py",
   "mimetype": "text/x-python",
   "name": "python",
   "nbconvert_exporter": "python",
   "pygments_lexer": "ipython3",
   "version": "3.8.5"
  }
 },
 "nbformat": 4,
 "nbformat_minor": 5
}
